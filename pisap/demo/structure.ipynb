{
 "cells": [
  {
   "cell_type": "markdown",
   "metadata": {},
   "source": [
    "<h1><center>PISAP: Python Interactive Sparse Astronomical Data Analysis Packages</center></h1>\n",
    "<h2><center>Anstronomic/Neuroimaging common structure overview</center></h2>\n",
    "<div style=\"text-align: center\">Credit: </div>\n",
    "\n",
    "Pisap is a Python package related to sparsity and its application in\n",
    "astronomical or mediacal data analysis. This package also bind the 'sparse2d' C++ library\n",
    "that allows fast and extended sparse decomposition, denoising and deconvolution.\n",
    "It is accessible to everybody, and is reusable in various contexts.\n",
    "The project is hosted on github: https://github.com/neurospin/pisap.<br><br>\n",
    "\n",
    "<h3>First check</h3>\n",
    "\n",
    "In order to test if the 'pisap' package is installed on your machine, you can check the package version:"
   ]
  },
  {
   "cell_type": "code",
   "execution_count": 1,
   "metadata": {},
   "outputs": [
    {
     "name": "stderr",
     "output_type": "stream",
     "text": [
      "/home/hc252523/.local/lib/python2.7/site-packages/matplotlib/font_manager.py:273: UserWarning: Matplotlib is building the font cache using fc-list. This may take a moment.\n",
      "  warnings.warn('Matplotlib is building the font cache using fc-list. This may take a moment.')\n"
     ]
    },
    {
     "name": "stdout",
     "output_type": "stream",
     "text": [
      "0.0.0\n"
     ]
    }
   ],
   "source": [
    "import pisap\n",
    "\n",
    "print pisap.__version__"
   ]
  },
  {
   "cell_type": "markdown",
   "metadata": {},
   "source": [
    "<h2>Import astronomical data</h2>\n",
    "\n",
    "The package provides a common interface to import and visualize astronomical FITS dataset. It also embeds a set of toy dataset that will be used during this tutorial:\n",
    "\n"
   ]
  },
  {
   "cell_type": "code",
   "execution_count": 2,
   "metadata": {},
   "outputs": [
    {
     "name": "stdout",
     "output_type": "stream",
     "text": [
      "(128, 128) [ 1.  1.] scalar\n",
      "{'BITPIX': -64,\n",
      " 'COMMENT': \"  and Astrophysics', volume 376, page 359; bibcode: 2001A&A...376..359H\",\n",
      " 'EXTEND': True,\n",
      " 'NAXIS': 2,\n",
      " 'NAXIS1': 128,\n",
      " 'NAXIS2': 128,\n",
      " 'SIMPLE': True,\n",
      " 'path': '/home/hc252523/.local/share/pisap/M31_128.fits'}\n",
      "float32\n"
     ]
    }
   ],
   "source": [
    "import pisap\n",
    "from pprint import pprint\n",
    "from pisap.data import get_sample_data\n",
    "\n",
    "fits_data_path = get_sample_data(\"astro-fits\")\n",
    "image = pisap.io.load(fits_data_path)\n",
    "print image.shape, image.spacing, image.data_type\n",
    "pprint(image.metadata)\n",
    "print image.data.dtype\n",
    "image.show()"
   ]
  },
  {
   "cell_type": "markdown",
   "metadata": {},
   "source": [
    "<h2>Import neuroimaging data</h2>\n",
    "\n",
    "The package provides a common interface to import and visualize neuroimaging NIFTI dataset. It also embeds a set of toy dataset that will be used during this tutorial:\n",
    "\n"
   ]
  },
  {
   "cell_type": "code",
   "execution_count": 3,
   "metadata": {},
   "outputs": [
    {
     "name": "stdout",
     "output_type": "stream",
     "text": [
      "(240, 256, 160) [ 1.          1.          1.10000002] scalar\n",
      "{'path': '/home/hc252523/.local/share/pisap/t1_localizer.nii.gz'}\n",
      "float32\n"
     ]
    }
   ],
   "source": [
    "import pisap\n",
    "from pprint import pprint\n",
    "from pisap.data import get_sample_data\n",
    "\n",
    "nifti_data_path = get_sample_data(\"mri-nifti\")\n",
    "image = pisap.io.load(nifti_data_path)\n",
    "image.scroll_axis = 2\n",
    "print image.shape, image.spacing, image.data_type\n",
    "pprint(image.metadata)\n",
    "print image.data.dtype\n",
    "image.show()"
   ]
  },
  {
   "cell_type": "markdown",
   "metadata": {},
   "source": [
    "<h2>Decompose/recompose an image using a fast ISAP/C++ based discrete wavelet transform</h2>\n",
    "\n",
    "The package provides also a common interface to the ISAP C++ software developped by the COSMOSTAT lab. The code is optimzed and give access to many decompsition strategies. All the ISAP library decompositions have been declared in a registery:"
   ]
  },
  {
   "cell_type": "code",
   "execution_count": 4,
   "metadata": {},
   "outputs": [
    {
     "name": "stdout",
     "output_type": "stream",
     "text": [
      "{'BsplineWaveletTransformATrousAlgorithm': <class 'pisap.extensions.transform.BsplineWaveletTransformATrousAlgorithm'>,\n",
      " 'DecompositionOnScalingFunction': <class 'pisap.extensions.transform.DecompositionOnScalingFunction'>,\n",
      " 'FeauveauWaveletTransformWithoutUndersampling': <class 'pisap.extensions.transform.FeauveauWaveletTransformWithoutUndersampling'>,\n",
      " 'HaarWaveletTransform': <class 'pisap.extensions.transform.HaarWaveletTransform'>,\n",
      " 'HalfPyramidalTransform': <class 'pisap.extensions.transform.HalfPyramidalTransform'>,\n",
      " 'IsotropicAndCompactSupportWaveletInFourierSpace': <class 'pisap.extensions.transform.IsotropicAndCompactSupportWaveletInFourierSpace'>,\n",
      " 'LinearWaveletTransformATrousAlgorithm': <class 'pisap.extensions.transform.LinearWaveletTransformATrousAlgorithm'>,\n",
      " 'MallatWaveletTransform79Filters': <class 'pisap.extensions.transform.MallatWaveletTransform79Filters'>,\n",
      " 'MeyerWaveletsCompactInFourierSpace': <class 'pisap.extensions.transform.MeyerWaveletsCompactInFourierSpace'>,\n",
      " 'MixedHalfPyramidalWTAndMedianMethod': <class 'pisap.extensions.transform.MixedHalfPyramidalWTAndMedianMethod'>,\n",
      " 'MixedWTAndPMTMethod': <class 'pisap.extensions.transform.MixedWTAndPMTMethod'>,\n",
      " 'MorphologicalMedianTransform': <class 'pisap.extensions.transform.MorphologicalMedianTransform'>,\n",
      " 'MorphologicalMinmaxTransform': <class 'pisap.extensions.transform.MorphologicalMinmaxTransform'>,\n",
      " 'MorphologicalPyramidalMinmaxTransform': <class 'pisap.extensions.transform.MorphologicalPyramidalMinmaxTransform'>,\n",
      " 'NonOrthogonalUndecimatedTransform': <class 'pisap.extensions.transform.NonOrthogonalUndecimatedTransform'>,\n",
      " 'OnLine44AndOnColumn53': <class 'pisap.extensions.transform.OnLine44AndOnColumn53'>,\n",
      " 'OnLine53AndOnColumn44': <class 'pisap.extensions.transform.OnLine53AndOnColumn44'>,\n",
      " 'PyramidalBsplineWaveletTransform': <class 'pisap.extensions.transform.PyramidalBsplineWaveletTransform'>,\n",
      " 'PyramidalLaplacian': <class 'pisap.extensions.transform.PyramidalLaplacian'>,\n",
      " 'PyramidalLinearWaveletTransform': <class 'pisap.extensions.transform.PyramidalLinearWaveletTransform'>,\n",
      " 'PyramidalMedianTransform': <class 'pisap.extensions.transform.PyramidalMedianTransform'>,\n",
      " 'PyramidalWaveletTransformInFourierSpaceAlgo1': <class 'pisap.extensions.transform.PyramidalWaveletTransformInFourierSpaceAlgo1'>,\n",
      " 'PyramidalWaveletTransformInFourierSpaceAlgo2': <class 'pisap.extensions.transform.PyramidalWaveletTransformInFourierSpaceAlgo2'>,\n",
      " 'UndecimatedBiOrthogonalTransform': <class 'pisap.extensions.transform.UndecimatedBiOrthogonalTransform'>,\n",
      " 'UndecimatedDiadicWaveletTransform': <class 'pisap.extensions.transform.UndecimatedDiadicWaveletTransform'>,\n",
      " 'UndecimatedHaarTransformATrousAlgorithm': <class 'pisap.extensions.transform.UndecimatedHaarTransformATrousAlgorithm'>,\n",
      " 'WaveletTransformInFourierSpace': <class 'pisap.extensions.transform.WaveletTransformInFourierSpace'>,\n",
      " 'WaveletTransformViaLiftingScheme': <class 'pisap.extensions.transform.WaveletTransformViaLiftingScheme'>}\n"
     ]
    }
   ],
   "source": [
    "from pprint import pprint\n",
    "import pisap.extensions.transform\n",
    "from pisap.base.transform import WaveletTransformBase\n",
    "pprint(WaveletTransformBase.REGISTRY)"
   ]
  },
  {
   "cell_type": "markdown",
   "metadata": {},
   "source": [
    "We illustrate the the decompose/recompose using a 79 wavelet transform:"
   ]
  },
  {
   "cell_type": "code",
   "execution_count": 5,
   "metadata": {},
   "outputs": [
    {
     "name": "stdout",
     "output_type": "stream",
     "text": [
      "[info] Executing ISAP command: mr_transform -t 14 -n 4 -U 2 -v -T 1 -L /tmp/tmpRh2hit/in.fits /tmp/tmpRh2hit/cube.mr...\n",
      "[info] Executing ISAP command: mr_recons -v /tmp/tmp9BjChG/cube.mr /tmp/tmp9BjChG/out.fits...\n"
     ]
    }
   ],
   "source": [
    "import pisap.extensions.transform\n",
    "from pisap.base.transform import WaveletTransformBase\n",
    "from pisap.data import get_sample_data\n",
    "\n",
    "nifti_data_path = get_sample_data(\"mri-slice-nifti\")\n",
    "image = pisap.io.load(nifti_data_path)\n",
    "transform = WaveletTransformBase.REGISTRY[\"MallatWaveletTransform79Filters\"](nb_scale=4, verbose=1)\n",
    "transform.data = image\n",
    "transform.analysis()\n",
    "transform.show()\n",
    "rec_image = transform.synthesis()\n",
    "rec_image.show()"
   ]
  }
 ],
 "metadata": {
  "kernelspec": {
   "display_name": "Python 2",
   "language": "python",
   "name": "python2"
  },
  "language_info": {
   "codemirror_mode": {
    "name": "ipython",
    "version": 2
   },
   "file_extension": ".py",
   "mimetype": "text/x-python",
   "name": "python",
   "nbconvert_exporter": "python",
   "pygments_lexer": "ipython2",
   "version": "2.7.12"
  }
 },
 "nbformat": 4,
 "nbformat_minor": 1
}
