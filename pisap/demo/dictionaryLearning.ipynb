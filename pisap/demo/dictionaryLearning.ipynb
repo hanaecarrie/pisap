{
 "cells": [
  {
   "cell_type": "markdown",
   "metadata": {},
   "source": [
    "<h1><center>PISAP: Python Interactive Sparse Astronomical Data Analysis Packages</center></h1>\n",
    "<h2><center>DIctionary learning tutorial</center></h2>\n",
    "<div style=\"text-align: center\">Credit: </div>\n",
    "\n",
    "Pisap is a Python package related to sparsity and its application in\n",
    "astronomical or mediacal data analysis. This package propose sparse denosing methods reusable in various contexts.\n",
    "For more information please visit the project page on github: https://github.com/neurospin/pisap.<br><br>\n",
    "\n",
    "<h3>First check</h3>\n",
    "\n",
    "In order to test if the 'pisap' package is installed on your machine, you can check the package version:"
   ]
  },
  {
   "cell_type": "code",
   "execution_count": 1,
   "metadata": {},
   "outputs": [
    {
     "name": "stdout",
     "output_type": "stream",
     "text": [
      "0.0.0\n"
     ]
    }
   ],
   "source": [
    "import pisap\n",
    "print pisap.__version__"
   ]
  },
  {
   "cell_type": "markdown",
   "metadata": {},
   "source": [
    "<h2>Decomposition / recomposition of images in a learned dictionary</h2>\n",
    "\n",
    "The package provides a flexible implementation of a dictionary learning method."
   ]
  },
  {
   "cell_type": "code",
   "execution_count": 2,
   "metadata": {
    "collapsed": true
   },
   "outputs": [],
   "source": [
    "import numpy as np\n",
    "from scipy.io import loadmat\n",
    "import scipy.fftpack as pfft\n",
    "import matplotlib.pyplot as plt\n",
    "%matplotlib inline\n",
    "\n",
    "from pisap.data import get_sample_data\n",
    "from pisap.base.utils import convert_mask_to_locations\n",
    "from pisap.numerics.noise import add_noise\n",
    "from pisap.numerics.reconstruct import sparse_rec_fista\n",
    "from pisap.numerics.gradient import Grad2DSynthesis\n",
    "from pisap.numerics.fourier import FFT\n",
    "from pisap.numerics.cost import snr, ssim\n",
    "from pisap.numerics.linear import DictionaryLearningWavelet"
   ]
  },
  {
   "cell_type": "code",
   "execution_count": 3,
   "metadata": {
    "collapsed": true
   },
   "outputs": [],
   "source": [
    "__disp_patches__ = False"
   ]
  },
  {
   "cell_type": "markdown",
   "metadata": {},
   "source": [
    "First, we load the atoms of our dictionary from a '.npy' file."
   ]
  },
  {
   "cell_type": "code",
   "execution_count": 4,
   "metadata": {
    "collapsed": true
   },
   "outputs": [],
   "source": [
    "dico = np.load(\"data/dico_patches_size100x49_30subjects_squareimgs_156x156.npy\")\n",
    "d1, d2 = dico.shape\n",
    "atoms = np.zeros((int(np.sqrt(d2)), int(np.sqrt(d2)), d1))\n",
    "for idx, atom in enumerate(dico):\n",
    "    atoms[:, :, idx] = atom.reshape(int(np.sqrt(d2)), int(np.sqrt(d2)))\n",
    "del dico"
   ]
  },
  {
   "cell_type": "code",
   "execution_count": 5,
   "metadata": {
    "collapsed": true
   },
   "outputs": [],
   "source": [
    "if __disp_patches__:\n",
    "    fig, axes = plt.subplots(figsize=(10, 10), nrows=10, ncols=10)\n",
    "    i = 0\n",
    "    for row in axes:\n",
    "        for ax in row:\n",
    "            ax.axis('off')\n",
    "            ax.matshow(atoms[:, :, i], cmap='gray')\n",
    "            i += 1\n",
    "    plt.suptitle('Dictionary', fontsize=22)\n",
    "    plt.show()"
   ]
  },
  {
   "cell_type": "markdown",
   "metadata": {},
   "source": [
    "Then, we define our dictionary."
   ]
  },
  {
   "cell_type": "code",
   "execution_count": 6,
   "metadata": {
    "collapsed": true
   },
   "outputs": [],
   "source": [
    "img = np.load(\"data/masked_normalized_img_testingset_156x156.npy\")\n",
    "#dico = DictionaryLearningWavelet(atoms, img.shape, n_jobs_transform=-1)"
   ]
  },
  {
   "cell_type": "markdown",
   "metadata": {},
   "source": [
    "Finally, we decompose and re-compose a brain image."
   ]
  },
  {
   "cell_type": "code",
   "execution_count": 7,
   "metadata": {
    "collapsed": true
   },
   "outputs": [],
   "source": [
    "#coef = dico.op(img)\n",
    "#recons_img = dico.adj_op(coef)"
   ]
  },
  {
   "cell_type": "code",
   "execution_count": 8,
   "metadata": {
    "collapsed": true
   },
   "outputs": [],
   "source": [
    "#print(\"Original image shape: {0}\".format(img.shape))\n",
    "#print(\"Coefficients shape: {0}\".format(coef.shape))\n",
    "#print(\"Reconsturcted image shape: {0}\".format(recons_img.shape))"
   ]
  },
  {
   "cell_type": "code",
   "execution_count": 9,
   "metadata": {
    "collapsed": true
   },
   "outputs": [],
   "source": [
    "#fig, axes = plt.subplots(figsize=(10, 10), nrows=1, ncols=2)\n",
    "#axes[0].axis('off')\n",
    "#axes[0].matshow(img, cmap='gray')\n",
    "#axes[0].set_title(\"Ref image\")\n",
    "#axes[1].axis('off')\n",
    "#axes[1].matshow(recons_img, cmap='gray')\n",
    "#axes[1].set_title(\"Decomposed/recomposed image\")\n",
    "#plt.show()"
   ]
  },
  {
   "cell_type": "markdown",
   "metadata": {},
   "source": [
    "<h2> CS reconstruction with a learned dictionary</h2>\n",
    "\n",
    "The package provides a flexible implementation of a dictionary learning representation for the reconstruction functions.  \n",
    "First, we load the input k-space and the under-sampling scheme."
   ]
  },
  {
   "cell_type": "code",
   "execution_count": 10,
   "metadata": {
    "collapsed": true
   },
   "outputs": [],
   "source": [
    "mask = loadmat(\"data/scheme_256_R5_power1_fullCenter.mat\")['sigma']\n",
    "c = int(mask.shape[0]/2)\n",
    "d = 156\n",
    "d_2 = int(d/2)\n",
    "mask = mask[c-d_2:c+d_2, c-d_2:c+d_2]\n",
    "loc = convert_mask_to_locations(pfft.ifftshift(mask))\n",
    "kspace = pfft.ifftshift(mask) * pfft.ifft2(img)\n",
    "kspace = add_noise(kspace, sigma=0.1)"
   ]
  },
  {
   "cell_type": "code",
   "execution_count": 11,
   "metadata": {
    "scrolled": false
   },
   "outputs": [
    {
     "name": "stdout",
     "output_type": "stream",
     "text": [
      "Starting FISTA reconstruction algorithm.\n"
     ]
    },
    {
     "name": "stderr",
     "output_type": "stream",
     "text": [
      "/home/hcherkaoui/COSMIC/src/pisap/pisap/numerics/linear.py:203: ComplexWarning: Casting complex values to real discards the imaginary part\n",
      "  return self._op_real_data(data.astype('float64'))\n"
     ]
    },
    {
     "name": "stdout",
     "output_type": "stream",
     "text": [
      "866.01668741\n"
     ]
    },
    {
     "name": "stderr",
     "output_type": "stream",
     "text": [
      "/home/hcherkaoui/COSMIC/src/pisap/pisap/numerics/linear.py:257: ComplexWarning: Casting complex values to real discards the imaginary part\n",
      "  img = reconstruct_from_patches_2d(patches.astype('float64'), self.image_size)\n"
     ]
    },
    {
     "name": "stdout",
     "output_type": "stream",
     "text": [
      "0.902522121221\n",
      "0.0\n"
     ]
    },
    {
     "name": "stderr",
     "output_type": "stream",
     "text": [
      "/home/hcherkaoui/COSMIC/src/pisap/pisap/numerics/gradient.py:90: RuntimeWarning: invalid value encountered in divide\n",
      "  x_new = self.MtMX(x_old) / np.linalg.norm(x_old)\n",
      "/home/hcherkaoui/COSMIC/src/pisap/pisap/numerics/gradient.py:91: RuntimeWarning: invalid value encountered in absolute\n",
      "  if(np.abs(np.linalg.norm(x_new) - np.linalg.norm(x_old)) < tolerance):\n"
     ]
    },
    {
     "name": "stdout",
     "output_type": "stream",
     "text": [
      "nan\n"
     ]
    },
    {
     "ename": "ValueError",
     "evalue": "Input contains NaN, infinity or a value too large for dtype('float64').",
     "output_type": "error",
     "traceback": [
      "\u001b[0;31m---------------------------------------------------------------------------\u001b[0m",
      "\u001b[0;31mValueError\u001b[0m                                Traceback (most recent call last)",
      "\u001b[0;32m<ipython-input-11-bc377149982b>\u001b[0m in \u001b[0;36m<module>\u001b[0;34m()\u001b[0m\n\u001b[1;32m     23\u001b[0m }\n\u001b[1;32m     24\u001b[0m \u001b[0;34m\u001b[0m\u001b[0m\n\u001b[0;32m---> 25\u001b[0;31m \u001b[0mx\u001b[0m\u001b[0;34m,\u001b[0m \u001b[0my\u001b[0m\u001b[0;34m,\u001b[0m \u001b[0msaved_metrics\u001b[0m \u001b[0;34m=\u001b[0m \u001b[0msparse_rec_fista\u001b[0m\u001b[0;34m(\u001b[0m\u001b[0;34m**\u001b[0m\u001b[0mparams\u001b[0m\u001b[0;34m)\u001b[0m\u001b[0;34m\u001b[0m\u001b[0m\n\u001b[0m",
      "\u001b[0;32m/home/hcherkaoui/COSMIC/src/pisap/pisap/numerics/reconstruct.pyc\u001b[0m in \u001b[0;36msparse_rec_fista\u001b[0;34m(data, gradient_cls, gradient_kwargs, linear_cls, linear_kwargs, mu, lambda_init, max_nb_of_iter, atol, metric_call_period, metrics, verbose)\u001b[0m\n\u001b[1;32m    278\u001b[0m     \u001b[0;31m# Define the gradient operator\u001b[0m\u001b[0;34m\u001b[0m\u001b[0;34m\u001b[0m\u001b[0m\n\u001b[1;32m    279\u001b[0m     \u001b[0mgradient_kwargs\u001b[0m\u001b[0;34m[\u001b[0m\u001b[0;34m\"linear_cls\"\u001b[0m\u001b[0;34m]\u001b[0m \u001b[0;34m=\u001b[0m \u001b[0mlinear_op\u001b[0m\u001b[0;34m\u001b[0m\u001b[0m\n\u001b[0;32m--> 280\u001b[0;31m     \u001b[0mgrad_op\u001b[0m \u001b[0;34m=\u001b[0m \u001b[0mgradient_cls\u001b[0m\u001b[0;34m(\u001b[0m\u001b[0mdata\u001b[0m\u001b[0;34m,\u001b[0m \u001b[0;34m**\u001b[0m\u001b[0mgradient_kwargs\u001b[0m\u001b[0;34m)\u001b[0m\u001b[0;34m\u001b[0m\u001b[0m\n\u001b[0m\u001b[1;32m    281\u001b[0m     \u001b[0mlipschitz_cst\u001b[0m \u001b[0;34m=\u001b[0m \u001b[0mgrad_op\u001b[0m\u001b[0;34m.\u001b[0m\u001b[0mspec_rad\u001b[0m\u001b[0;34m\u001b[0m\u001b[0m\n\u001b[1;32m    282\u001b[0m \u001b[0;34m\u001b[0m\u001b[0m\n",
      "\u001b[0;32m/home/hcherkaoui/COSMIC/src/pisap/pisap/numerics/gradient.py\u001b[0m in \u001b[0;36m__init__\u001b[0;34m(self, data, ft_cls, linear_cls)\u001b[0m\n\u001b[1;32m    233\u001b[0m             \u001b[0mself\u001b[0m\u001b[0;34m.\u001b[0m\u001b[0mft_cls\u001b[0m \u001b[0;34m=\u001b[0m \u001b[0mft_cls\u001b[0m\u001b[0;34m\u001b[0m\u001b[0m\n\u001b[1;32m    234\u001b[0m         \u001b[0mself\u001b[0m\u001b[0;34m.\u001b[0m\u001b[0mlinear_cls\u001b[0m \u001b[0;34m=\u001b[0m \u001b[0mlinear_cls\u001b[0m\u001b[0;34m\u001b[0m\u001b[0m\n\u001b[0;32m--> 235\u001b[0;31m         \u001b[0mself\u001b[0m\u001b[0;34m.\u001b[0m\u001b[0mget_spec_rad\u001b[0m\u001b[0;34m(\u001b[0m\u001b[0;34m)\u001b[0m\u001b[0;34m\u001b[0m\u001b[0m\n\u001b[0m\u001b[1;32m    236\u001b[0m \u001b[0;34m\u001b[0m\u001b[0m\n\u001b[1;32m    237\u001b[0m     \u001b[0;32mdef\u001b[0m \u001b[0mget_initial_x\u001b[0m\u001b[0;34m(\u001b[0m\u001b[0mself\u001b[0m\u001b[0;34m)\u001b[0m\u001b[0;34m:\u001b[0m\u001b[0;34m\u001b[0m\u001b[0m\n",
      "\u001b[0;32m/home/hcherkaoui/COSMIC/src/pisap/pisap/numerics/gradient.py\u001b[0m in \u001b[0;36mget_spec_rad\u001b[0;34m(self, tolerance, max_iter, coef_mul)\u001b[0m\n\u001b[1;32m     88\u001b[0m         \u001b[0;32mfor\u001b[0m \u001b[0mi\u001b[0m \u001b[0;32min\u001b[0m \u001b[0mxrange\u001b[0m\u001b[0;34m(\u001b[0m\u001b[0mmax_iter\u001b[0m\u001b[0;34m)\u001b[0m\u001b[0;34m:\u001b[0m\u001b[0;34m\u001b[0m\u001b[0m\n\u001b[1;32m     89\u001b[0m             \u001b[0;32mprint\u001b[0m\u001b[0;34m(\u001b[0m\u001b[0mnp\u001b[0m\u001b[0;34m.\u001b[0m\u001b[0mlinalg\u001b[0m\u001b[0;34m.\u001b[0m\u001b[0mnorm\u001b[0m\u001b[0;34m(\u001b[0m\u001b[0mx_old\u001b[0m\u001b[0;34m)\u001b[0m\u001b[0;34m)\u001b[0m\u001b[0;34m\u001b[0m\u001b[0m\n\u001b[0;32m---> 90\u001b[0;31m             \u001b[0mx_new\u001b[0m \u001b[0;34m=\u001b[0m \u001b[0mself\u001b[0m\u001b[0;34m.\u001b[0m\u001b[0mMtMX\u001b[0m\u001b[0;34m(\u001b[0m\u001b[0mx_old\u001b[0m\u001b[0;34m)\u001b[0m \u001b[0;34m/\u001b[0m \u001b[0mnp\u001b[0m\u001b[0;34m.\u001b[0m\u001b[0mlinalg\u001b[0m\u001b[0;34m.\u001b[0m\u001b[0mnorm\u001b[0m\u001b[0;34m(\u001b[0m\u001b[0mx_old\u001b[0m\u001b[0;34m)\u001b[0m\u001b[0;34m\u001b[0m\u001b[0m\n\u001b[0m\u001b[1;32m     91\u001b[0m             \u001b[0;32mif\u001b[0m\u001b[0;34m(\u001b[0m\u001b[0mnp\u001b[0m\u001b[0;34m.\u001b[0m\u001b[0mabs\u001b[0m\u001b[0;34m(\u001b[0m\u001b[0mnp\u001b[0m\u001b[0;34m.\u001b[0m\u001b[0mlinalg\u001b[0m\u001b[0;34m.\u001b[0m\u001b[0mnorm\u001b[0m\u001b[0;34m(\u001b[0m\u001b[0mx_new\u001b[0m\u001b[0;34m)\u001b[0m \u001b[0;34m-\u001b[0m \u001b[0mnp\u001b[0m\u001b[0;34m.\u001b[0m\u001b[0mlinalg\u001b[0m\u001b[0;34m.\u001b[0m\u001b[0mnorm\u001b[0m\u001b[0;34m(\u001b[0m\u001b[0mx_old\u001b[0m\u001b[0;34m)\u001b[0m\u001b[0;34m)\u001b[0m \u001b[0;34m<\u001b[0m \u001b[0mtolerance\u001b[0m\u001b[0;34m)\u001b[0m\u001b[0;34m:\u001b[0m\u001b[0;34m\u001b[0m\u001b[0m\n\u001b[1;32m     92\u001b[0m                 \u001b[0;32mbreak\u001b[0m\u001b[0;34m\u001b[0m\u001b[0m\n",
      "\u001b[0;32m/home/hcherkaoui/COSMIC/src/pisap/pisap/numerics/gradient.py\u001b[0m in \u001b[0;36mMtMX\u001b[0;34m(self, x)\u001b[0m\n\u001b[1;32m    114\u001b[0m         \u001b[0mCalculates\u001b[0m  \u001b[0mM\u001b[0m\u001b[0;34m^\u001b[0m\u001b[0mT\u001b[0m \u001b[0;34m(\u001b[0m\u001b[0mMX\u001b[0m\u001b[0;34m)\u001b[0m\u001b[0;34m\u001b[0m\u001b[0m\n\u001b[1;32m    115\u001b[0m         \"\"\"\n\u001b[0;32m--> 116\u001b[0;31m         \u001b[0;32mreturn\u001b[0m \u001b[0mself\u001b[0m\u001b[0;34m.\u001b[0m\u001b[0mMtX\u001b[0m\u001b[0;34m(\u001b[0m\u001b[0mself\u001b[0m\u001b[0;34m.\u001b[0m\u001b[0mMX\u001b[0m\u001b[0;34m(\u001b[0m\u001b[0mx\u001b[0m\u001b[0;34m)\u001b[0m\u001b[0;34m)\u001b[0m\u001b[0;34m\u001b[0m\u001b[0m\n\u001b[0m\u001b[1;32m    117\u001b[0m \u001b[0;34m\u001b[0m\u001b[0m\n\u001b[1;32m    118\u001b[0m \u001b[0;34m\u001b[0m\u001b[0m\n",
      "\u001b[0;32m/home/hcherkaoui/COSMIC/src/pisap/pisap/numerics/gradient.py\u001b[0m in \u001b[0;36mMtX\u001b[0;34m(self, x)\u001b[0m\n\u001b[1;32m    278\u001b[0m         \u001b[0mDictionaryBase\u001b[0m \u001b[0mresult\u001b[0m\u001b[0;34m\u001b[0m\u001b[0m\n\u001b[1;32m    279\u001b[0m         \"\"\"\n\u001b[0;32m--> 280\u001b[0;31m         \u001b[0;32mreturn\u001b[0m \u001b[0mself\u001b[0m\u001b[0;34m.\u001b[0m\u001b[0mlinear_cls\u001b[0m\u001b[0;34m.\u001b[0m\u001b[0mop\u001b[0m\u001b[0;34m(\u001b[0m\u001b[0mself\u001b[0m\u001b[0;34m.\u001b[0m\u001b[0mft_cls\u001b[0m\u001b[0;34m.\u001b[0m\u001b[0madj_op\u001b[0m\u001b[0;34m(\u001b[0m\u001b[0mx\u001b[0m\u001b[0;34m)\u001b[0m\u001b[0;34m)\u001b[0m\u001b[0;34m\u001b[0m\u001b[0m\n\u001b[0m",
      "\u001b[0;32m/home/hcherkaoui/COSMIC/src/pisap/pisap/numerics/linear.pyc\u001b[0m in \u001b[0;36mop\u001b[0;34m(self, data)\u001b[0m\n\u001b[1;32m    197\u001b[0m         \"\"\"\n\u001b[1;32m    198\u001b[0m         \u001b[0;32mif\u001b[0m \u001b[0mnp\u001b[0m\u001b[0;34m.\u001b[0m\u001b[0many\u001b[0m\u001b[0;34m(\u001b[0m\u001b[0mnp\u001b[0m\u001b[0;34m.\u001b[0m\u001b[0miscomplex\u001b[0m\u001b[0;34m(\u001b[0m\u001b[0mdata\u001b[0m\u001b[0;34m)\u001b[0m\u001b[0;34m)\u001b[0m\u001b[0;34m:\u001b[0m\u001b[0;34m\u001b[0m\u001b[0m\n\u001b[0;32m--> 199\u001b[0;31m             \u001b[0mr_coef\u001b[0m \u001b[0;34m=\u001b[0m \u001b[0mself\u001b[0m\u001b[0;34m.\u001b[0m\u001b[0m_op_real_data\u001b[0m\u001b[0;34m(\u001b[0m\u001b[0mdata\u001b[0m\u001b[0;34m.\u001b[0m\u001b[0mreal\u001b[0m\u001b[0;34m)\u001b[0m\u001b[0;34m\u001b[0m\u001b[0m\n\u001b[0m\u001b[1;32m    200\u001b[0m             \u001b[0mi_coef\u001b[0m \u001b[0;34m=\u001b[0m \u001b[0mself\u001b[0m\u001b[0;34m.\u001b[0m\u001b[0m_op_real_data\u001b[0m\u001b[0;34m(\u001b[0m\u001b[0mdata\u001b[0m\u001b[0;34m.\u001b[0m\u001b[0mimag\u001b[0m\u001b[0;34m)\u001b[0m\u001b[0;34m\u001b[0m\u001b[0m\n\u001b[1;32m    201\u001b[0m             \u001b[0;32mreturn\u001b[0m \u001b[0mr_coef\u001b[0m \u001b[0;34m+\u001b[0m \u001b[0;36m1.j\u001b[0m \u001b[0;34m*\u001b[0m \u001b[0mi_coef\u001b[0m\u001b[0;34m\u001b[0m\u001b[0m\n",
      "\u001b[0;32m/home/hcherkaoui/COSMIC/src/pisap/pisap/numerics/linear.pyc\u001b[0m in \u001b[0;36m_op_real_data\u001b[0;34m(self, data)\u001b[0m\n\u001b[1;32m    218\u001b[0m             \u001b[0mThe\u001b[0m \u001b[0mwavelet\u001b[0m \u001b[0mcoefficients\u001b[0m\u001b[0;34m.\u001b[0m\u001b[0;34m\u001b[0m\u001b[0m\n\u001b[1;32m    219\u001b[0m         \"\"\"\n\u001b[0;32m--> 220\u001b[0;31m         \u001b[0mpatches\u001b[0m \u001b[0;34m=\u001b[0m \u001b[0mextract_patches_2d\u001b[0m\u001b[0;34m(\u001b[0m\u001b[0mdata\u001b[0m\u001b[0;34m,\u001b[0m \u001b[0mself\u001b[0m\u001b[0;34m.\u001b[0m\u001b[0msize_patches\u001b[0m\u001b[0;34m)\u001b[0m\u001b[0;34m\u001b[0m\u001b[0m\n\u001b[0m\u001b[1;32m    221\u001b[0m         \u001b[0md1\u001b[0m\u001b[0;34m,\u001b[0m \u001b[0md2\u001b[0m\u001b[0;34m,\u001b[0m \u001b[0md3\u001b[0m \u001b[0;34m=\u001b[0m \u001b[0mpatches\u001b[0m\u001b[0;34m.\u001b[0m\u001b[0mshape\u001b[0m\u001b[0;34m\u001b[0m\u001b[0m\n\u001b[1;32m    222\u001b[0m         \u001b[0mpatches_reshaped\u001b[0m \u001b[0;34m=\u001b[0m \u001b[0mpatches\u001b[0m\u001b[0;34m.\u001b[0m\u001b[0mreshape\u001b[0m\u001b[0;34m(\u001b[0m\u001b[0md1\u001b[0m\u001b[0;34m,\u001b[0m \u001b[0md2\u001b[0m\u001b[0;34m*\u001b[0m\u001b[0md3\u001b[0m\u001b[0;34m)\u001b[0m\u001b[0;34m\u001b[0m\u001b[0m\n",
      "\u001b[0;32m/home/hcherkaoui/.local/lib/python2.7/site-packages/sklearn/feature_extraction/image.pyc\u001b[0m in \u001b[0;36mextract_patches_2d\u001b[0;34m(image, patch_size, max_patches, random_state)\u001b[0m\n\u001b[1;32m    366\u001b[0m                          \" of the image.\")\n\u001b[1;32m    367\u001b[0m \u001b[0;34m\u001b[0m\u001b[0m\n\u001b[0;32m--> 368\u001b[0;31m     \u001b[0mimage\u001b[0m \u001b[0;34m=\u001b[0m \u001b[0mcheck_array\u001b[0m\u001b[0;34m(\u001b[0m\u001b[0mimage\u001b[0m\u001b[0;34m,\u001b[0m \u001b[0mallow_nd\u001b[0m\u001b[0;34m=\u001b[0m\u001b[0mTrue\u001b[0m\u001b[0;34m)\u001b[0m\u001b[0;34m\u001b[0m\u001b[0m\n\u001b[0m\u001b[1;32m    369\u001b[0m     \u001b[0mimage\u001b[0m \u001b[0;34m=\u001b[0m \u001b[0mimage\u001b[0m\u001b[0;34m.\u001b[0m\u001b[0mreshape\u001b[0m\u001b[0;34m(\u001b[0m\u001b[0;34m(\u001b[0m\u001b[0mi_h\u001b[0m\u001b[0;34m,\u001b[0m \u001b[0mi_w\u001b[0m\u001b[0;34m,\u001b[0m \u001b[0;34m-\u001b[0m\u001b[0;36m1\u001b[0m\u001b[0;34m)\u001b[0m\u001b[0;34m)\u001b[0m\u001b[0;34m\u001b[0m\u001b[0m\n\u001b[1;32m    370\u001b[0m     \u001b[0mn_colors\u001b[0m \u001b[0;34m=\u001b[0m \u001b[0mimage\u001b[0m\u001b[0;34m.\u001b[0m\u001b[0mshape\u001b[0m\u001b[0;34m[\u001b[0m\u001b[0;34m-\u001b[0m\u001b[0;36m1\u001b[0m\u001b[0;34m]\u001b[0m\u001b[0;34m\u001b[0m\u001b[0m\n",
      "\u001b[0;32m/home/hcherkaoui/.local/lib/python2.7/site-packages/sklearn/utils/validation.pyc\u001b[0m in \u001b[0;36mcheck_array\u001b[0;34m(array, accept_sparse, dtype, order, copy, force_all_finite, ensure_2d, allow_nd, ensure_min_samples, ensure_min_features, warn_on_dtype, estimator)\u001b[0m\n\u001b[1;32m    405\u001b[0m                              % (array.ndim, estimator_name))\n\u001b[1;32m    406\u001b[0m         \u001b[0;32mif\u001b[0m \u001b[0mforce_all_finite\u001b[0m\u001b[0;34m:\u001b[0m\u001b[0;34m\u001b[0m\u001b[0m\n\u001b[0;32m--> 407\u001b[0;31m             \u001b[0m_assert_all_finite\u001b[0m\u001b[0;34m(\u001b[0m\u001b[0marray\u001b[0m\u001b[0;34m)\u001b[0m\u001b[0;34m\u001b[0m\u001b[0m\n\u001b[0m\u001b[1;32m    408\u001b[0m \u001b[0;34m\u001b[0m\u001b[0m\n\u001b[1;32m    409\u001b[0m     \u001b[0mshape_repr\u001b[0m \u001b[0;34m=\u001b[0m \u001b[0m_shape_repr\u001b[0m\u001b[0;34m(\u001b[0m\u001b[0marray\u001b[0m\u001b[0;34m.\u001b[0m\u001b[0mshape\u001b[0m\u001b[0;34m)\u001b[0m\u001b[0;34m\u001b[0m\u001b[0m\n",
      "\u001b[0;32m/home/hcherkaoui/.local/lib/python2.7/site-packages/sklearn/utils/validation.pyc\u001b[0m in \u001b[0;36m_assert_all_finite\u001b[0;34m(X)\u001b[0m\n\u001b[1;32m     56\u001b[0m             and not np.isfinite(X).all()):\n\u001b[1;32m     57\u001b[0m         raise ValueError(\"Input contains NaN, infinity\"\n\u001b[0;32m---> 58\u001b[0;31m                          \" or a value too large for %r.\" % X.dtype)\n\u001b[0m\u001b[1;32m     59\u001b[0m \u001b[0;34m\u001b[0m\u001b[0m\n\u001b[1;32m     60\u001b[0m \u001b[0;34m\u001b[0m\u001b[0m\n",
      "\u001b[0;31mValueError\u001b[0m: Input contains NaN, infinity or a value too large for dtype('float64')."
     ]
    }
   ],
   "source": [
    "metrics = {'snr':{'metric':snr,\n",
    "                  'mapping': {'x_new': 'test', 'y_new':None},\n",
    "                  'cst_kwargs':{'ref':img},\n",
    "                  'early_stopping': False,\n",
    "                   },\n",
    "            'ssim':{'metric':ssim,\n",
    "                  'mapping': {'x_new': 'test', 'y_new':None},\n",
    "                  'cst_kwargs':{'ref':img},\n",
    "                  'early_stopping': True,\n",
    "                   },\n",
    "           }\n",
    "params = {\n",
    "    'data':kspace,\n",
    "    'gradient_cls':Grad2DSynthesis,\n",
    "    'gradient_kwargs':{\"ft_cls\": {FFT: {\"samples_locations\": loc,\n",
    "                                        \"img_size\": img.shape[0]}}},\n",
    "    'linear_cls':DictionaryLearningWavelet,\n",
    "    'linear_kwargs':{\"atoms\": atoms, \"image_size\": img.shape, \"n_jobs_transform\": -1},\n",
    "    'max_nb_of_iter':100,\n",
    "    'mu':2.0e-2,\n",
    "    'metrics':metrics,\n",
    "    'verbose':1,\n",
    "}\n",
    "\n",
    "x, y, saved_metrics = sparse_rec_fista(**params)"
   ]
  },
  {
   "cell_type": "code",
   "execution_count": null,
   "metadata": {
    "collapsed": true
   },
   "outputs": [],
   "source": [
    "plt.figure()\n",
    "plt.imshow(mask, cmap='gray')\n",
    "plt.title(\"Mask\")\n",
    "\n",
    "plt.figure()\n",
    "plt.imshow(np.abs(pfft.ifft2(kspace), interpolation=\"nearest\", cmap=\"gist_stern\")\n",
    "plt.colorbar()\n",
    "plt.title(\"Dirty image\")\n",
    "\n",
    "plt.figure()\n",
    "plt.imshow(np.abs(x.data), interpolation=\"nearest\", cmap=\"gist_stern\")\n",
    "plt.colorbar()\n",
    "plt.title(\"Analytic sparse reconstruction via Condat-Vu method\")\n",
    "\n",
    "metric = saved_metrics['snr']\n",
    "fig = plt.figure()\n",
    "plt.grid()\n",
    "plt.plot(metric['time'], metric['values'])\n",
    "plt.xlabel(\"time (s)\")\n",
    "plt.ylabel(\"SNR\")\n",
    "plt.title(\"Evo. SNR per time\")\n",
    "\n",
    "metric = saved_metrics['nrmse']\n",
    "fig = plt.figure()\n",
    "plt.grid()\n",
    "plt.plot(metric['time'], metric['values'])\n",
    "plt.xlabel(\"time (s)\")\n",
    "plt.ylabel(\"NRMSE\")\n",
    "plt.title(\"Evo. NRMSE per time\")\n",
    "\n",
    "plt.show()"
   ]
  }
 ],
 "metadata": {
  "kernelspec": {
   "display_name": "Python 2",
   "language": "python",
   "name": "python2"
  },
  "language_info": {
   "codemirror_mode": {
    "name": "ipython",
    "version": 2
   },
   "file_extension": ".py",
   "mimetype": "text/x-python",
   "name": "python",
   "nbconvert_exporter": "python",
   "pygments_lexer": "ipython2",
   "version": "2.7.12"
  }
 },
 "nbformat": 4,
 "nbformat_minor": 2
}
